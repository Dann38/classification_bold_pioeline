{
 "cells": [
  {
   "cell_type": "code",
   "execution_count": 1,
   "id": "a6cdc3f8",
   "metadata": {},
   "outputs": [],
   "source": [
    "#  cd C:\\Users\\danii\\program\\python\\project\\classification_bold_pipeline\n",
    "#  python -m pip install .\n",
    "from width_char_row.class_page import Page, Pages\n",
    "import matplotlib.pyplot as plt\n",
    "import numpy as np"
   ]
  },
  {
   "cell_type": "code",
   "execution_count": 2,
   "id": "0e88c313",
   "metadata": {},
   "outputs": [],
   "source": [
    "data0 = Pages(r\"C:/Users/danii/Desktop/img-row/\")"
   ]
  },
  {
   "cell_type": "code",
   "execution_count": 9,
   "id": "c4f3983e",
   "metadata": {},
   "outputs": [],
   "source": [
    "data1 = Pages(r\"C:/Users/danii/Dropbox/Работа/04.Данные/ВКР/\")\n"
   ]
  },
  {
   "cell_type": "code",
   "execution_count": 3,
   "id": "faf4ada2",
   "metadata": {},
   "outputs": [],
   "source": [
    "data2 = Pages(r\"C:/Users/danii/Dropbox/Работа/04.Данные/ГОСТ/\")"
   ]
  },
  {
   "cell_type": "code",
   "execution_count": 13,
   "id": "140922d5",
   "metadata": {},
   "outputs": [],
   "source": [
    "data3 = Pages(r\"C:/Users/danii/Dropbox/Работа/04.Данные/Учебник/\")"
   ]
  },
  {
   "cell_type": "code",
   "execution_count": 22,
   "id": "e4b8cf71",
   "metadata": {},
   "outputs": [
    {
     "name": "stdout",
     "output_type": "stream",
     "text": [
      "================================================\n",
      "Messia_t1_1978ru - 16.png\n",
      "precision:0.0000\n",
      "recall0.0000\n",
      "Время работы:0.0183 cек (CPU время:0.0000 сек)\n",
      "================================================\n",
      "================================================\n",
      "Messia_t1_1978ru - 22.png\n",
      "precision:0.0000\n",
      "recall0.0000\n",
      "Время работы:0.0052 cек (CPU время:0.0000 сек)\n",
      "================================================\n",
      "================================================\n",
      "Messia_t1_1978ru - 28.png\n",
      "precision:0.0000\n",
      "recall0.0000\n",
      "Время работы:0.0041 cек (CPU время:0.0000 сек)\n",
      "================================================\n",
      "================================================\n",
      "Messia_t1_1978ru - 3.png\n",
      "precision:0.5000\n",
      "recall0.1111\n",
      "Время работы:0.0000 cек (CPU время:0.0000 сек)\n",
      "================================================\n",
      "================================================\n",
      "Messia_t1_1978ru - 32.png\n",
      "precision:0.3333\n",
      "recall0.3333\n",
      "Время работы:0.0101 cек (CPU время:0.0000 сек)\n",
      "================================================\n",
      "================================================\n",
      "Messia_t1_1978ru - 37.png\n",
      "precision:0.0000\n",
      "recall0.0000\n",
      "Время работы:0.0000 cек (CPU время:0.0156 сек)\n",
      "================================================\n",
      "================================================\n",
      "Messia_t1_1978ru - 4.png\n",
      "precision:0.0000\n",
      "recall0.0000\n",
      "Время работы:0.0000 cек (CPU время:0.0000 сек)\n",
      "================================================\n",
      "================================================\n",
      "Messia_t1_1978ru - 41.png\n",
      "precision:0.0000\n",
      "recall0.0000\n",
      "Время работы:0.0000 cек (CPU время:0.0000 сек)\n",
      "================================================\n",
      "================================================\n",
      "Messia_t1_1978ru - 49.png\n",
      "precision:0.0000\n",
      "recall0.0000\n",
      "Время работы:0.0155 cек (CPU время:0.0000 сек)\n",
      "================================================\n",
      "================================================\n",
      "Messia_t1_1978ru - 5.png\n",
      "precision:0.0000\n",
      "recall0.0000\n",
      "Время работы:0.0040 cек (CPU время:0.0156 сек)\n",
      "================================================\n",
      "================================================\n",
      "Messia_t1_1978ru - 54.png\n",
      "precision:0.5000\n",
      "recall0.3333\n",
      "Время работы:0.0020 cек (CPU время:0.0000 сек)\n",
      "================================================\n",
      "================================================\n",
      "Messia_t1_1978ru - 6.png\n",
      "precision:0.0000\n",
      "recall0.0000\n",
      "Время работы:0.0040 cек (CPU время:0.0000 сек)\n",
      "================================================\n",
      "================================================\n",
      "Messia_t1_1978ru - 7.png\n",
      "precision:1.0000\n",
      "recall0.0909\n",
      "Время работы:0.0040 cек (CPU время:0.0000 сек)\n",
      "================================================\n",
      "================================================\n",
      "Messia_t1_1978ru - 8.png\n",
      "precision:0.0000\n",
      "recall0.0000\n",
      "Время работы:0.0040 cек (CPU время:0.0156 сек)\n",
      "================================================\n",
      "================================================\n",
      "Messia_t1_1978ru - 9.png\n",
      "precision:0.0000\n",
      "recall0.0000\n",
      "Время работы:0.0020 cек (CPU время:0.0000 сек)\n",
      "================================================\n",
      ">>>>>>>>>>>>>>>>>>>>>>>>>>>>>>>>>>>>>>>>>>>>>>>>\n",
      "precision: 0.1584\n",
      "recall: 0.0526\n",
      "Время работы:0.0732 cек (CPU время:0.0469 сек)\n",
      ">>>>>>>>>>>>>>>>>>>>>>>>>>>>>>>>>>>>>>>>>>>>>>>>\n"
     ]
    },
    {
     "data": {
      "text/plain": [
       "{'precision': 0.1583793738489871, 'recall': 0.052583849545175504}"
      ]
     },
     "execution_count": 22,
     "metadata": {},
     "output_type": "execute_result"
    }
   ],
   "source": [
    "# data3.test_proc_k(0.15,method=\"sq\")\n",
    "data3.test_method(k=0.6, method=\"ps\")"
   ]
  },
  {
   "cell_type": "code",
   "execution_count": 29,
   "id": "76c189eb",
   "metadata": {},
   "outputs": [],
   "source": [
    "data3.pages[5].imshow_method(k=0.28, method='sq')"
   ]
  },
  {
   "cell_type": "code",
   "execution_count": null,
   "id": "24bc6ac8",
   "metadata": {},
   "outputs": [],
   "source": [
    "\n"
   ]
  },
  {
   "cell_type": "code",
   "execution_count": null,
   "id": "e0a60d6f",
   "metadata": {},
   "outputs": [],
   "source": []
  },
  {
   "cell_type": "code",
   "execution_count": null,
   "id": "807704c9",
   "metadata": {
    "scrolled": true
   },
   "outputs": [],
   "source": [
    "# gost-ps\n",
    "# 0.2  0.0779\n",
    "# 0.3  0.0711\n",
    "# 0.4  0.1465\n",
    "# 0.42 0.2246\n",
    "# 0.44 0.2967\n",
    "# 0.45 0.2809\n",
    "# 0.47 0.2228\n",
    "# 0.5  0.1457\n",
    "# 0.6  0.1068\n",
    "# 0.7  0.0994\n",
    "# 0.8  0.0985"
   ]
  },
  {
   "cell_type": "code",
   "execution_count": null,
   "id": "81748571",
   "metadata": {},
   "outputs": [],
   "source": []
  },
  {
   "cell_type": "code",
   "execution_count": null,
   "id": "8473ce6a",
   "metadata": {},
   "outputs": [],
   "source": []
  },
  {
   "cell_type": "code",
   "execution_count": null,
   "id": "6cfc7a48",
   "metadata": {},
   "outputs": [],
   "source": []
  },
  {
   "cell_type": "code",
   "execution_count": null,
   "id": "8eb1bad6",
   "metadata": {},
   "outputs": [],
   "source": []
  },
  {
   "cell_type": "code",
   "execution_count": 18,
   "id": "48e36008",
   "metadata": {},
   "outputs": [
    {
     "data": {
      "image/png": "[encoded data removed]",
      "text/plain": [
       "<Figure size 640x480 with 1 Axes>"
      ]
     },
     "metadata": {},
     "output_type": "display_data"
    }
   ],
   "source": [
    "METHOD = \"mean\"\n",
    "precision = []\n",
    "recall = []\n",
    "P = np.linspace(0.001, 0.3, 40)\n",
    "for p in P:\n",
    "    rez = data3.test_proc_k(p ,method=METHOD, print_rez=False)\n",
    "    precision.append(rez['precision'])\n",
    "    recall.append(rez['recall'])\n",
    "plt.plot(P, precision, 'b')\n",
    "plt.plot(P, recall, 'r')\n",
    "plt.legend(['precision', 'recall'])\n",
    "plt.xlabel('вероятность жирного')\n",
    "plt.title(f\"Метод {METHOD}\")\n",
    "plt.grid()"
   ]
  },
  {
   "cell_type": "code",
   "execution_count": null,
   "id": "ee497f75",
   "metadata": {},
   "outputs": [],
   "source": []
  }
 ],
 "metadata": {
  "kernelspec": {
   "display_name": "Python 3 (ipykernel)",
   "language": "python",
   "name": "python3"
  },
  "language_info": {
   "codemirror_mode": {
    "name": "ipython",
    "version": 3
   },
   "file_extension": ".py",
   "mimetype": "text/x-python",
   "name": "python",
   "nbconvert_exporter": "python",
   "pygments_lexer": "ipython3",
   "version": "3.10.5"
  }
 },
 "nbformat": 4,
 "nbformat_minor": 5
}
