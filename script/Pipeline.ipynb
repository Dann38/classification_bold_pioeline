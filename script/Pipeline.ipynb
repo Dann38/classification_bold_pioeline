{
 "cells": [
  {
   "cell_type": "code",
   "execution_count": 1,
   "id": "a6cdc3f8",
   "metadata": {},
   "outputs": [],
   "source": [
    "#  cd C:\\Users\\danii\\program\\python\\project\\classification_bold_pipeline\n",
    "#  python -m pip install .\n",
    "from width_char_row.class_page import Page, Pages\n",
    "import matplotlib.pyplot as plt\n",
    "import numpy as np"
   ]
  },
  {
   "cell_type": "code",
   "execution_count": 2,
   "id": "0e88c313",
   "metadata": {},
   "outputs": [],
   "source": [
    "data0 = Pages(r\"C:/Users/danii/Desktop/img-row/\")"
   ]
  },
  {
   "cell_type": "code",
   "execution_count": 3,
   "id": "c4f3983e",
   "metadata": {},
   "outputs": [],
   "source": [
    "data1 = Pages(r\"C:/Users/danii/program/python/project/classification_bold/scripts/ds-g-img/\")\n"
   ]
  },
  {
   "cell_type": "code",
   "execution_count": 15,
   "id": "faf4ada2",
   "metadata": {},
   "outputs": [],
   "source": [
    "data2 = Pages(r\"C:/Users/danii/Dropbox/Работа/04.Данные/ГОСТ/\")"
   ]
  },
  {
   "cell_type": "code",
   "execution_count": 34,
   "id": "140922d5",
   "metadata": {},
   "outputs": [],
   "source": [
    "data3 = Pages(r\"C:/Users/danii/Dropbox/Работа/04.Данные/Книга/Арнольд/\")"
   ]
  },
  {
   "cell_type": "code",
   "execution_count": 4,
   "id": "e4b8cf71",
   "metadata": {},
   "outputs": [
    {
     "name": "stdout",
     "output_type": "stream",
     "text": [
      "================================================\n",
      "b01.jpeg\n",
      "precision:0.5000\n",
      "recall0.9231\n",
      "Время работы:0.1295 cек (CPU время:0.1094 сек)\n",
      "================================================\n",
      "================================================\n",
      "b02.jpeg\n",
      "precision:0.4000\n",
      "recall0.5000\n",
      "Время работы:0.1634 cек (CPU время:0.1406 сек)\n",
      "================================================\n",
      "================================================\n",
      "b03.jpeg\n",
      "precision:0.4762\n",
      "recall0.7143\n",
      "Время работы:0.2269 cек (CPU время:0.1875 сек)\n",
      "================================================\n",
      "================================================\n",
      "b04.jpeg\n",
      "precision:0.3333\n",
      "recall0.8000\n",
      "Время работы:0.1286 cек (CPU время:0.1094 сек)\n",
      "================================================\n",
      "================================================\n",
      "b05.jpeg\n",
      "precision:0.3200\n",
      "recall0.8000\n",
      "Время работы:0.1275 cек (CPU время:0.1250 сек)\n",
      "================================================\n",
      "================================================\n",
      "g01.jpeg\n",
      "precision:0.0417\n",
      "recall1.0000\n",
      "Время работы:0.2677 cек (CPU время:0.2188 сек)\n",
      "================================================\n",
      "================================================\n",
      "g02.jpeg\n",
      "precision:0.1154\n",
      "recall1.0000\n",
      "Время работы:0.3110 cек (CPU время:0.2656 сек)\n",
      "================================================\n",
      "================================================\n",
      "g03.jpeg\n",
      "precision:0.0345\n",
      "recall1.0000\n",
      "Время работы:0.3075 cек (CPU время:0.2656 сек)\n",
      "================================================\n",
      "================================================\n",
      "g04.jpeg\n",
      "precision:0.0370\n",
      "recall1.0000\n",
      "Время работы:0.2263 cек (CPU время:0.1875 сек)\n",
      "================================================\n",
      "================================================\n",
      "g05.jpeg\n",
      "precision:0.0000\n",
      "recall0.0000\n",
      "Время работы:0.3173 cек (CPU время:0.2812 сек)\n",
      "================================================\n",
      "================================================\n",
      "g06.jpeg\n",
      "precision:0.0400\n",
      "recall1.0000\n",
      "Время работы:0.2514 cек (CPU время:0.2500 сек)\n",
      "================================================\n",
      "================================================\n",
      "g07.jpeg\n",
      "precision:0.0000\n",
      "recall1.0000\n",
      "Время работы:0.3154 cек (CPU время:0.3125 сек)\n",
      "================================================\n",
      "================================================\n",
      "g08.jpeg\n",
      "precision:0.1538\n",
      "recall0.8000\n",
      "Время работы:0.2918 cек (CPU время:0.2656 сек)\n",
      "================================================\n",
      "================================================\n",
      "g09.jpeg\n",
      "precision:0.0323\n",
      "recall1.0000\n",
      "Время работы:0.3371 cек (CPU время:0.3281 сек)\n",
      "================================================\n",
      "================================================\n",
      "g10.jpeg\n",
      "precision:0.1053\n",
      "recall0.8000\n",
      "Время работы:0.2830 cек (CPU время:0.1875 сек)\n",
      "================================================\n",
      "================================================\n",
      "g11.jpeg\n",
      "precision:0.0000\n",
      "recall1.0000\n",
      "Время работы:0.2560 cек (CPU время:0.2344 сек)\n",
      "================================================\n",
      "================================================\n",
      "g12.jpeg\n",
      "precision:0.0000\n",
      "recall1.0000\n",
      "Время работы:0.2561 cек (CPU время:0.2500 сек)\n",
      "================================================\n",
      "================================================\n",
      "g13.jpeg\n",
      "precision:0.0667\n",
      "recall1.0000\n",
      "Время работы:0.3428 cек (CPU время:0.3281 сек)\n",
      "================================================\n",
      "================================================\n",
      "g14.jpeg\n",
      "precision:0.0690\n",
      "recall1.0000\n",
      "Время работы:0.3813 cек (CPU время:0.3125 сек)\n",
      "================================================\n",
      "================================================\n",
      "g15.jpeg\n",
      "precision:0.0645\n",
      "recall1.0000\n",
      "Время работы:0.2977 cек (CPU время:0.2500 сек)\n",
      "================================================\n",
      "================================================\n",
      "g16.jpeg\n",
      "precision:0.1071\n",
      "recall1.0000\n",
      "Время работы:0.2300 cек (CPU время:0.2344 сек)\n",
      "================================================\n",
      "================================================\n",
      "g17.jpeg\n",
      "precision:0.0000\n",
      "recall1.0000\n",
      "Время работы:0.3944 cек (CPU время:0.3438 сек)\n",
      "================================================\n",
      "================================================\n",
      "g18.jpeg\n",
      "precision:0.0370\n",
      "recall1.0000\n",
      "Время работы:0.2921 cек (CPU время:0.2812 сек)\n",
      "================================================\n",
      "================================================\n",
      "g19.jpeg\n",
      "precision:0.1034\n",
      "recall0.7500\n",
      "Время работы:0.3237 cек (CPU время:0.2969 сек)\n",
      "================================================\n",
      "================================================\n",
      "g20.jpeg\n",
      "precision:0.1429\n",
      "recall0.8000\n",
      "Время работы:0.2945 cек (CPU время:0.2344 сек)\n",
      "================================================\n",
      "================================================\n",
      "n01.jpeg\n",
      "precision:0.0000\n",
      "recall1.0000\n",
      "Время работы:0.4022 cек (CPU время:0.3594 сек)\n",
      "================================================\n",
      "================================================\n",
      "n02.jpeg\n",
      "precision:0.0000\n",
      "recall1.0000\n",
      "Время работы:0.2557 cек (CPU время:0.2500 сек)\n",
      "================================================\n",
      "================================================\n",
      "n03.jpeg\n",
      "precision:0.0000\n",
      "recall1.0000\n",
      "Время работы:0.3010 cек (CPU время:0.2656 сек)\n",
      "================================================\n",
      "================================================\n",
      "n04.jpeg\n",
      "precision:0.0000\n",
      "recall1.0000\n",
      "Время работы:0.2662 cек (CPU время:0.2500 сек)\n",
      "================================================\n",
      "================================================\n",
      "n05.jpeg\n",
      "precision:0.0000\n",
      "recall1.0000\n",
      "Время работы:0.3542 cек (CPU время:0.2656 сек)\n",
      "================================================\n",
      ">>>>>>>>>>>>>>>>>>>>>>>>>>>>>>>>>>>>>>>>>>>>>>>>\n",
      "precision: 0.1018\n",
      "recall: 0.8961\n",
      "Время работы:8.3324 cек (CPU время:7.3906 сек)\n",
      ">>>>>>>>>>>>>>>>>>>>>>>>>>>>>>>>>>>>>>>>>>>>>>>>\n"
     ]
    },
    {
     "data": {
      "text/plain": [
       "{'precision': 0.10180525761276546, 'recall': 0.8960833251569859}"
      ]
     },
     "execution_count": 4,
     "metadata": {},
     "output_type": "execute_result"
    }
   ],
   "source": [
    "data1.test_method(method=\"sq\", k=0.60)\n",
    "# data1.test_proc_k(0.15,method=\"ps\")"
   ]
  },
  {
   "cell_type": "code",
   "execution_count": 8,
   "id": "76c189eb",
   "metadata": {},
   "outputs": [],
   "source": [
    "data1.pages[6].imshow_method(k=0.60, method='ps')"
   ]
  },
  {
   "cell_type": "code",
   "execution_count": 44,
   "id": "24bc6ac8",
   "metadata": {},
   "outputs": [],
   "source": []
  },
  {
   "cell_type": "code",
   "execution_count": null,
   "id": "e0a60d6f",
   "metadata": {},
   "outputs": [],
   "source": []
  },
  {
   "cell_type": "code",
   "execution_count": null,
   "id": "807704c9",
   "metadata": {
    "scrolled": true
   },
   "outputs": [],
   "source": [
    "# gost-ps\n",
    "# 0.2  0.0779\n",
    "# 0.3  0.0711\n",
    "# 0.4  0.1465\n",
    "# 0.42 0.2246\n",
    "# 0.44 0.2967\n",
    "# 0.45 0.2809\n",
    "# 0.47 0.2228\n",
    "# 0.5  0.1457\n",
    "# 0.6  0.1068\n",
    "# 0.7  0.0994\n",
    "# 0.8  0.0985"
   ]
  },
  {
   "cell_type": "code",
   "execution_count": null,
   "id": "81748571",
   "metadata": {},
   "outputs": [],
   "source": []
  },
  {
   "cell_type": "code",
   "execution_count": null,
   "id": "8473ce6a",
   "metadata": {},
   "outputs": [],
   "source": []
  },
  {
   "cell_type": "code",
   "execution_count": null,
   "id": "6cfc7a48",
   "metadata": {},
   "outputs": [],
   "source": []
  },
  {
   "cell_type": "code",
   "execution_count": null,
   "id": "8eb1bad6",
   "metadata": {},
   "outputs": [],
   "source": []
  },
  {
   "cell_type": "code",
   "execution_count": 6,
   "id": "48e36008",
   "metadata": {},
   "outputs": [
    {
     "data": {
      "image/png": "[encoded data removed]",
      "text/plain": [
       "<Figure size 640x480 with 1 Axes>"
      ]
     },
     "metadata": {},
     "output_type": "display_data"
    }
   ],
   "source": [
    "import numpy as np\n",
    "precision = []\n",
    "recall = []\n",
    "P = np.linspace(0.001, 0.99, 20)\n",
    "for p in P:\n",
    "    rez = data1.test_proc_k(p ,method=\"sq\", print_rez=False)\n",
    "    precision.append(rez['precision'])\n",
    "    recall.append(rez['recall'])\n",
    "plt.plot(P, precision, 'b')\n",
    "plt.plot(P, recall, 'r')\n",
    "plt.legend(['precision', 'recall'])\n",
    "plt.xlabel('вероятность жирного')\n",
    "plt.grid()"
   ]
  },
  {
   "cell_type": "code",
   "execution_count": null,
   "id": "2e964abf",
   "metadata": {},
   "outputs": [],
   "source": []
  }
 ],
 "metadata": {
  "kernelspec": {
   "display_name": "Python 3 (ipykernel)",
   "language": "python",
   "name": "python3"
  },
  "language_info": {
   "codemirror_mode": {
    "name": "ipython",
    "version": 3
   },
   "file_extension": ".py",
   "mimetype": "text/x-python",
   "name": "python",
   "nbconvert_exporter": "python",
   "pygments_lexer": "ipython3",
   "version": "3.10.5"
  }
 },
 "nbformat": 4,
 "nbformat_minor": 5
}
