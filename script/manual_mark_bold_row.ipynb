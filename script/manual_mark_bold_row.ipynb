{
 "cells": [
  {
   "cell_type": "markdown",
   "id": "7b89eeaf",
   "metadata": {},
   "source": [
    "Программа для размеки документов построчно."
   ]
  },
  {
   "cell_type": "code",
   "execution_count": 1,
   "id": "d8abce7a",
   "metadata": {},
   "outputs": [
    {
     "name": "stderr",
     "output_type": "stream",
     "text": [
      "C:\\Users\\danii\\scoop\\apps\\python\\current\\lib\\site-packages\\weasyprint\\text\\fonts.py:62: UserWarning: FontConfig cannot load default config file. Expect ugly output.\n",
      "  warn('FontConfig cannot load default config file. Expect ugly output.')\n",
      "C:\\Users\\danii\\AppData\\Roaming\\Python\\Python310\\site-packages\\requests\\__init__.py:102: RequestsDependencyWarning: urllib3 (1.26.9) or chardet (5.1.0)/charset_normalizer (2.0.12) doesn't match a supported version!\n",
      "  warnings.warn(\"urllib3 ({}) or chardet ({})/charset_normalizer ({}) doesn't match a supported \"\n"
     ]
    }
   ],
   "source": [
    "from tkinter import *\n",
    "from tkinter import filedialog\n",
    "\n",
    "import cv2\n",
    "import numpy as np\n",
    "from PIL import Image, ImageTk\n",
    "import pytesseract\n",
    "\n",
    "import os\n",
    "from width_char_row.class_page import Page"
   ]
  },
  {
   "cell_type": "code",
   "execution_count": 2,
   "id": "7ddbfa75",
   "metadata": {},
   "outputs": [],
   "source": [
    "PATH = r\"C:/Users/danii/Dropbox/Работа/04.Данные/ВКР/\"\n",
    "WIDTH = 500\n",
    "HEIGHT =700\n",
    "\n",
    "OFFSET_ROW = 2\n",
    "BOLD_ROW = 1\n",
    "REGULAR_ROW = 0\n",
    "\n",
    "COLOR_OFFSET_ROW = (0, 0, 255) \n",
    "COLOR_BOLD_ROW = (255, 0, 0)\n",
    "COLOR_REGULAR_ROW = (0, 255, 0)\n",
    "\n",
    "files = []\n",
    "for end in ('.jpg', '.png', '.jpeg'):\n",
    "    files += [each for each in os.listdir(PATH) if each.endswith(end)]"
   ]
  },
  {
   "cell_type": "code",
   "execution_count": 3,
   "id": "7fbede9a",
   "metadata": {},
   "outputs": [],
   "source": [
    "def read_img(name_file):\n",
    "    with open(name_file, \"rb\") as f:\n",
    "        chunk = f.read()\n",
    "    chunk_arr = np.frombuffer(chunk, dtype=np.uint8)\n",
    "    img = cv2.imdecode(chunk_arr, cv2.IMREAD_COLOR)\n",
    "    return img"
   ]
  },
  {
   "cell_type": "code",
   "execution_count": 5,
   "id": "55382f60",
   "metadata": {},
   "outputs": [
    {
     "name": "stdout",
     "output_type": "stream",
     "text": [
      "C:/Users/danii/Dropbox/Работа/04.Данные/ВКР//b01.jpeg\n",
      "C:/Users/danii/Dropbox/Работа/04.Данные/ВКР//b02.jpeg\n"
     ]
    },
    {
     "name": "stderr",
     "output_type": "stream",
     "text": [
      "C:\\Users\\danii\\scoop\\apps\\python\\current\\lib\\site-packages\\torchvision\\models\\_utils.py:135: UserWarning: Using 'weights' as positional parameter(s) is deprecated since 0.13 and may be removed in the future. Please use keyword parameter(s) instead.\n",
      "  warnings.warn(\n",
      "C:\\Users\\danii\\scoop\\apps\\python\\current\\lib\\site-packages\\torchvision\\models\\_utils.py:223: UserWarning: Arguments other than a weight enum or `None` for 'weights' are deprecated since 0.13 and may be removed in the future. The current behavior is equivalent to passing `weights=None`.\n",
      "  warnings.warn(msg)\n",
      "C:\\Users\\danii\\scoop\\apps\\python\\current\\lib\\site-packages\\width_char_row\\my_binar.py:91: RuntimeWarning: invalid value encountered in scalar divide\n",
      "  mu_2 = (sumVal - mu_k) / (omega_2)\n"
     ]
    },
    {
     "name": "stdout",
     "output_type": "stream",
     "text": [
      "C:/Users/danii/Dropbox/Работа/04.Данные/ВКР//b03.jpeg\n"
     ]
    },
    {
     "name": "stderr",
     "output_type": "stream",
     "text": [
      "C:\\Users\\danii\\scoop\\apps\\python\\current\\lib\\site-packages\\torchvision\\models\\_utils.py:135: UserWarning: Using 'weights' as positional parameter(s) is deprecated since 0.13 and may be removed in the future. Please use keyword parameter(s) instead.\n",
      "  warnings.warn(\n",
      "C:\\Users\\danii\\scoop\\apps\\python\\current\\lib\\site-packages\\torchvision\\models\\_utils.py:223: UserWarning: Arguments other than a weight enum or `None` for 'weights' are deprecated since 0.13 and may be removed in the future. The current behavior is equivalent to passing `weights=None`.\n",
      "  warnings.warn(msg)\n",
      "C:\\Users\\danii\\scoop\\apps\\python\\current\\lib\\site-packages\\width_char_row\\my_binar.py:91: RuntimeWarning: invalid value encountered in scalar divide\n",
      "  mu_2 = (sumVal - mu_k) / (omega_2)\n"
     ]
    },
    {
     "name": "stdout",
     "output_type": "stream",
     "text": [
      "C:/Users/danii/Dropbox/Работа/04.Данные/ВКР//b04.jpeg\n"
     ]
    },
    {
     "name": "stderr",
     "output_type": "stream",
     "text": [
      "C:\\Users\\danii\\scoop\\apps\\python\\current\\lib\\site-packages\\torchvision\\models\\_utils.py:135: UserWarning: Using 'weights' as positional parameter(s) is deprecated since 0.13 and may be removed in the future. Please use keyword parameter(s) instead.\n",
      "  warnings.warn(\n",
      "C:\\Users\\danii\\scoop\\apps\\python\\current\\lib\\site-packages\\torchvision\\models\\_utils.py:223: UserWarning: Arguments other than a weight enum or `None` for 'weights' are deprecated since 0.13 and may be removed in the future. The current behavior is equivalent to passing `weights=None`.\n",
      "  warnings.warn(msg)\n",
      "C:\\Users\\danii\\scoop\\apps\\python\\current\\lib\\site-packages\\width_char_row\\my_binar.py:91: RuntimeWarning: invalid value encountered in scalar divide\n",
      "  mu_2 = (sumVal - mu_k) / (omega_2)\n"
     ]
    },
    {
     "name": "stdout",
     "output_type": "stream",
     "text": [
      "C:/Users/danii/Dropbox/Работа/04.Данные/ВКР//b05.jpeg\n"
     ]
    },
    {
     "name": "stderr",
     "output_type": "stream",
     "text": [
      "C:\\Users\\danii\\scoop\\apps\\python\\current\\lib\\site-packages\\torchvision\\models\\_utils.py:135: UserWarning: Using 'weights' as positional parameter(s) is deprecated since 0.13 and may be removed in the future. Please use keyword parameter(s) instead.\n",
      "  warnings.warn(\n",
      "C:\\Users\\danii\\scoop\\apps\\python\\current\\lib\\site-packages\\torchvision\\models\\_utils.py:223: UserWarning: Arguments other than a weight enum or `None` for 'weights' are deprecated since 0.13 and may be removed in the future. The current behavior is equivalent to passing `weights=None`.\n",
      "  warnings.warn(msg)\n",
      "C:\\Users\\danii\\scoop\\apps\\python\\current\\lib\\site-packages\\width_char_row\\my_binar.py:91: RuntimeWarning: divide by zero encountered in scalar divide\n",
      "  mu_2 = (sumVal - mu_k) / (omega_2)\n",
      "C:\\Users\\danii\\scoop\\apps\\python\\current\\lib\\site-packages\\width_char_row\\my_binar.py:94: RuntimeWarning: invalid value encountered in scalar multiply\n",
      "  currentVar = (1 - sumOfNeighbors / denom) * (omega_1 * mu_1 ** 2 + omega_2 * mu_2 ** 2)\n"
     ]
    },
    {
     "name": "stdout",
     "output_type": "stream",
     "text": [
      "C:/Users/danii/Dropbox/Работа/04.Данные/ВКР//g01.jpeg\n"
     ]
    },
    {
     "name": "stderr",
     "output_type": "stream",
     "text": [
      "C:\\Users\\danii\\scoop\\apps\\python\\current\\lib\\site-packages\\torchvision\\models\\_utils.py:135: UserWarning: Using 'weights' as positional parameter(s) is deprecated since 0.13 and may be removed in the future. Please use keyword parameter(s) instead.\n",
      "  warnings.warn(\n",
      "C:\\Users\\danii\\scoop\\apps\\python\\current\\lib\\site-packages\\torchvision\\models\\_utils.py:223: UserWarning: Arguments other than a weight enum or `None` for 'weights' are deprecated since 0.13 and may be removed in the future. The current behavior is equivalent to passing `weights=None`.\n",
      "  warnings.warn(msg)\n",
      "C:\\Users\\danii\\scoop\\apps\\python\\current\\lib\\site-packages\\width_char_row\\my_binar.py:91: RuntimeWarning: invalid value encountered in scalar divide\n",
      "  mu_2 = (sumVal - mu_k) / (omega_2)\n"
     ]
    },
    {
     "name": "stdout",
     "output_type": "stream",
     "text": [
      "C:/Users/danii/Dropbox/Работа/04.Данные/ВКР//g02.jpeg\n"
     ]
    },
    {
     "name": "stderr",
     "output_type": "stream",
     "text": [
      "C:\\Users\\danii\\scoop\\apps\\python\\current\\lib\\site-packages\\torchvision\\models\\_utils.py:135: UserWarning: Using 'weights' as positional parameter(s) is deprecated since 0.13 and may be removed in the future. Please use keyword parameter(s) instead.\n",
      "  warnings.warn(\n",
      "C:\\Users\\danii\\scoop\\apps\\python\\current\\lib\\site-packages\\torchvision\\models\\_utils.py:223: UserWarning: Arguments other than a weight enum or `None` for 'weights' are deprecated since 0.13 and may be removed in the future. The current behavior is equivalent to passing `weights=None`.\n",
      "  warnings.warn(msg)\n"
     ]
    },
    {
     "name": "stdout",
     "output_type": "stream",
     "text": [
      "C:/Users/danii/Dropbox/Работа/04.Данные/ВКР//g03.jpeg\n"
     ]
    },
    {
     "name": "stderr",
     "output_type": "stream",
     "text": [
      "C:\\Users\\danii\\scoop\\apps\\python\\current\\lib\\site-packages\\torchvision\\models\\_utils.py:135: UserWarning: Using 'weights' as positional parameter(s) is deprecated since 0.13 and may be removed in the future. Please use keyword parameter(s) instead.\n",
      "  warnings.warn(\n",
      "C:\\Users\\danii\\scoop\\apps\\python\\current\\lib\\site-packages\\torchvision\\models\\_utils.py:223: UserWarning: Arguments other than a weight enum or `None` for 'weights' are deprecated since 0.13 and may be removed in the future. The current behavior is equivalent to passing `weights=None`.\n",
      "  warnings.warn(msg)\n",
      "C:\\Users\\danii\\scoop\\apps\\python\\current\\lib\\site-packages\\width_char_row\\my_binar.py:91: RuntimeWarning: invalid value encountered in scalar divide\n",
      "  mu_2 = (sumVal - mu_k) / (omega_2)\n"
     ]
    },
    {
     "name": "stdout",
     "output_type": "stream",
     "text": [
      "C:/Users/danii/Dropbox/Работа/04.Данные/ВКР//g04.jpeg\n"
     ]
    },
    {
     "name": "stderr",
     "output_type": "stream",
     "text": [
      "C:\\Users\\danii\\scoop\\apps\\python\\current\\lib\\site-packages\\torchvision\\models\\_utils.py:135: UserWarning: Using 'weights' as positional parameter(s) is deprecated since 0.13 and may be removed in the future. Please use keyword parameter(s) instead.\n",
      "  warnings.warn(\n",
      "C:\\Users\\danii\\scoop\\apps\\python\\current\\lib\\site-packages\\torchvision\\models\\_utils.py:223: UserWarning: Arguments other than a weight enum or `None` for 'weights' are deprecated since 0.13 and may be removed in the future. The current behavior is equivalent to passing `weights=None`.\n",
      "  warnings.warn(msg)\n",
      "C:\\Users\\danii\\scoop\\apps\\python\\current\\lib\\site-packages\\width_char_row\\my_binar.py:91: RuntimeWarning: divide by zero encountered in scalar divide\n",
      "  mu_2 = (sumVal - mu_k) / (omega_2)\n",
      "C:\\Users\\danii\\scoop\\apps\\python\\current\\lib\\site-packages\\width_char_row\\my_binar.py:94: RuntimeWarning: invalid value encountered in scalar multiply\n",
      "  currentVar = (1 - sumOfNeighbors / denom) * (omega_1 * mu_1 ** 2 + omega_2 * mu_2 ** 2)\n"
     ]
    },
    {
     "name": "stdout",
     "output_type": "stream",
     "text": [
      "C:/Users/danii/Dropbox/Работа/04.Данные/ВКР//g05.jpeg\n"
     ]
    },
    {
     "name": "stderr",
     "output_type": "stream",
     "text": [
      "C:\\Users\\danii\\scoop\\apps\\python\\current\\lib\\site-packages\\torchvision\\models\\_utils.py:135: UserWarning: Using 'weights' as positional parameter(s) is deprecated since 0.13 and may be removed in the future. Please use keyword parameter(s) instead.\n",
      "  warnings.warn(\n",
      "C:\\Users\\danii\\scoop\\apps\\python\\current\\lib\\site-packages\\torchvision\\models\\_utils.py:223: UserWarning: Arguments other than a weight enum or `None` for 'weights' are deprecated since 0.13 and may be removed in the future. The current behavior is equivalent to passing `weights=None`.\n",
      "  warnings.warn(msg)\n"
     ]
    },
    {
     "name": "stdout",
     "output_type": "stream",
     "text": [
      "C:/Users/danii/Dropbox/Работа/04.Данные/ВКР//g06.jpeg\n"
     ]
    },
    {
     "name": "stderr",
     "output_type": "stream",
     "text": [
      "C:\\Users\\danii\\scoop\\apps\\python\\current\\lib\\site-packages\\torchvision\\models\\_utils.py:135: UserWarning: Using 'weights' as positional parameter(s) is deprecated since 0.13 and may be removed in the future. Please use keyword parameter(s) instead.\n",
      "  warnings.warn(\n",
      "C:\\Users\\danii\\scoop\\apps\\python\\current\\lib\\site-packages\\torchvision\\models\\_utils.py:223: UserWarning: Arguments other than a weight enum or `None` for 'weights' are deprecated since 0.13 and may be removed in the future. The current behavior is equivalent to passing `weights=None`.\n",
      "  warnings.warn(msg)\n",
      "C:\\Users\\danii\\scoop\\apps\\python\\current\\lib\\site-packages\\width_char_row\\my_binar.py:91: RuntimeWarning: invalid value encountered in scalar divide\n",
      "  mu_2 = (sumVal - mu_k) / (omega_2)\n"
     ]
    },
    {
     "name": "stdout",
     "output_type": "stream",
     "text": [
      "C:/Users/danii/Dropbox/Работа/04.Данные/ВКР//g07.jpeg\n"
     ]
    },
    {
     "name": "stderr",
     "output_type": "stream",
     "text": [
      "C:\\Users\\danii\\scoop\\apps\\python\\current\\lib\\site-packages\\torchvision\\models\\_utils.py:135: UserWarning: Using 'weights' as positional parameter(s) is deprecated since 0.13 and may be removed in the future. Please use keyword parameter(s) instead.\n",
      "  warnings.warn(\n",
      "C:\\Users\\danii\\scoop\\apps\\python\\current\\lib\\site-packages\\torchvision\\models\\_utils.py:223: UserWarning: Arguments other than a weight enum or `None` for 'weights' are deprecated since 0.13 and may be removed in the future. The current behavior is equivalent to passing `weights=None`.\n",
      "  warnings.warn(msg)\n",
      "C:\\Users\\danii\\scoop\\apps\\python\\current\\lib\\site-packages\\width_char_row\\my_binar.py:91: RuntimeWarning: invalid value encountered in scalar divide\n",
      "  mu_2 = (sumVal - mu_k) / (omega_2)\n"
     ]
    },
    {
     "name": "stdout",
     "output_type": "stream",
     "text": [
      "C:/Users/danii/Dropbox/Работа/04.Данные/ВКР//g08.jpeg\n"
     ]
    },
    {
     "name": "stderr",
     "output_type": "stream",
     "text": [
      "C:\\Users\\danii\\scoop\\apps\\python\\current\\lib\\site-packages\\torchvision\\models\\_utils.py:135: UserWarning: Using 'weights' as positional parameter(s) is deprecated since 0.13 and may be removed in the future. Please use keyword parameter(s) instead.\n",
      "  warnings.warn(\n",
      "C:\\Users\\danii\\scoop\\apps\\python\\current\\lib\\site-packages\\torchvision\\models\\_utils.py:223: UserWarning: Arguments other than a weight enum or `None` for 'weights' are deprecated since 0.13 and may be removed in the future. The current behavior is equivalent to passing `weights=None`.\n",
      "  warnings.warn(msg)\n",
      "C:\\Users\\danii\\scoop\\apps\\python\\current\\lib\\site-packages\\width_char_row\\my_binar.py:91: RuntimeWarning: invalid value encountered in scalar divide\n",
      "  mu_2 = (sumVal - mu_k) / (omega_2)\n"
     ]
    },
    {
     "name": "stdout",
     "output_type": "stream",
     "text": [
      "C:/Users/danii/Dropbox/Работа/04.Данные/ВКР//g09.jpeg\n"
     ]
    },
    {
     "name": "stderr",
     "output_type": "stream",
     "text": [
      "C:\\Users\\danii\\scoop\\apps\\python\\current\\lib\\site-packages\\torchvision\\models\\_utils.py:135: UserWarning: Using 'weights' as positional parameter(s) is deprecated since 0.13 and may be removed in the future. Please use keyword parameter(s) instead.\n",
      "  warnings.warn(\n",
      "C:\\Users\\danii\\scoop\\apps\\python\\current\\lib\\site-packages\\torchvision\\models\\_utils.py:223: UserWarning: Arguments other than a weight enum or `None` for 'weights' are deprecated since 0.13 and may be removed in the future. The current behavior is equivalent to passing `weights=None`.\n",
      "  warnings.warn(msg)\n",
      "C:\\Users\\danii\\scoop\\apps\\python\\current\\lib\\site-packages\\width_char_row\\my_binar.py:91: RuntimeWarning: divide by zero encountered in scalar divide\n",
      "  mu_2 = (sumVal - mu_k) / (omega_2)\n",
      "C:\\Users\\danii\\scoop\\apps\\python\\current\\lib\\site-packages\\width_char_row\\my_binar.py:94: RuntimeWarning: invalid value encountered in scalar multiply\n",
      "  currentVar = (1 - sumOfNeighbors / denom) * (omega_1 * mu_1 ** 2 + omega_2 * mu_2 ** 2)\n"
     ]
    },
    {
     "name": "stdout",
     "output_type": "stream",
     "text": [
      "C:/Users/danii/Dropbox/Работа/04.Данные/ВКР//g10.jpeg\n"
     ]
    },
    {
     "name": "stderr",
     "output_type": "stream",
     "text": [
      "C:\\Users\\danii\\scoop\\apps\\python\\current\\lib\\site-packages\\torchvision\\models\\_utils.py:135: UserWarning: Using 'weights' as positional parameter(s) is deprecated since 0.13 and may be removed in the future. Please use keyword parameter(s) instead.\n",
      "  warnings.warn(\n",
      "C:\\Users\\danii\\scoop\\apps\\python\\current\\lib\\site-packages\\torchvision\\models\\_utils.py:223: UserWarning: Arguments other than a weight enum or `None` for 'weights' are deprecated since 0.13 and may be removed in the future. The current behavior is equivalent to passing `weights=None`.\n",
      "  warnings.warn(msg)\n",
      "C:\\Users\\danii\\scoop\\apps\\python\\current\\lib\\site-packages\\width_char_row\\my_binar.py:91: RuntimeWarning: invalid value encountered in scalar divide\n",
      "  mu_2 = (sumVal - mu_k) / (omega_2)\n"
     ]
    },
    {
     "name": "stdout",
     "output_type": "stream",
     "text": [
      "C:/Users/danii/Dropbox/Работа/04.Данные/ВКР//g11.jpeg\n"
     ]
    },
    {
     "name": "stderr",
     "output_type": "stream",
     "text": [
      "C:\\Users\\danii\\scoop\\apps\\python\\current\\lib\\site-packages\\torchvision\\models\\_utils.py:135: UserWarning: Using 'weights' as positional parameter(s) is deprecated since 0.13 and may be removed in the future. Please use keyword parameter(s) instead.\n",
      "  warnings.warn(\n",
      "C:\\Users\\danii\\scoop\\apps\\python\\current\\lib\\site-packages\\torchvision\\models\\_utils.py:223: UserWarning: Arguments other than a weight enum or `None` for 'weights' are deprecated since 0.13 and may be removed in the future. The current behavior is equivalent to passing `weights=None`.\n",
      "  warnings.warn(msg)\n",
      "C:\\Users\\danii\\scoop\\apps\\python\\current\\lib\\site-packages\\width_char_row\\my_binar.py:91: RuntimeWarning: invalid value encountered in scalar divide\n",
      "  mu_2 = (sumVal - mu_k) / (omega_2)\n"
     ]
    },
    {
     "name": "stdout",
     "output_type": "stream",
     "text": [
      "C:/Users/danii/Dropbox/Работа/04.Данные/ВКР//g12.jpeg\n"
     ]
    },
    {
     "name": "stderr",
     "output_type": "stream",
     "text": [
      "C:\\Users\\danii\\scoop\\apps\\python\\current\\lib\\site-packages\\torchvision\\models\\_utils.py:135: UserWarning: Using 'weights' as positional parameter(s) is deprecated since 0.13 and may be removed in the future. Please use keyword parameter(s) instead.\n",
      "  warnings.warn(\n",
      "C:\\Users\\danii\\scoop\\apps\\python\\current\\lib\\site-packages\\torchvision\\models\\_utils.py:223: UserWarning: Arguments other than a weight enum or `None` for 'weights' are deprecated since 0.13 and may be removed in the future. The current behavior is equivalent to passing `weights=None`.\n",
      "  warnings.warn(msg)\n",
      "C:\\Users\\danii\\scoop\\apps\\python\\current\\lib\\site-packages\\width_char_row\\my_binar.py:91: RuntimeWarning: invalid value encountered in scalar divide\n",
      "  mu_2 = (sumVal - mu_k) / (omega_2)\n"
     ]
    },
    {
     "name": "stdout",
     "output_type": "stream",
     "text": [
      "C:/Users/danii/Dropbox/Работа/04.Данные/ВКР//g13.jpeg\n"
     ]
    },
    {
     "name": "stderr",
     "output_type": "stream",
     "text": [
      "C:\\Users\\danii\\scoop\\apps\\python\\current\\lib\\site-packages\\torchvision\\models\\_utils.py:135: UserWarning: Using 'weights' as positional parameter(s) is deprecated since 0.13 and may be removed in the future. Please use keyword parameter(s) instead.\n",
      "  warnings.warn(\n",
      "C:\\Users\\danii\\scoop\\apps\\python\\current\\lib\\site-packages\\torchvision\\models\\_utils.py:223: UserWarning: Arguments other than a weight enum or `None` for 'weights' are deprecated since 0.13 and may be removed in the future. The current behavior is equivalent to passing `weights=None`.\n",
      "  warnings.warn(msg)\n",
      "C:\\Users\\danii\\scoop\\apps\\python\\current\\lib\\site-packages\\width_char_row\\my_binar.py:91: RuntimeWarning: invalid value encountered in scalar divide\n",
      "  mu_2 = (sumVal - mu_k) / (omega_2)\n"
     ]
    },
    {
     "name": "stdout",
     "output_type": "stream",
     "text": [
      "C:/Users/danii/Dropbox/Работа/04.Данные/ВКР//g14.jpeg\n"
     ]
    },
    {
     "name": "stderr",
     "output_type": "stream",
     "text": [
      "C:\\Users\\danii\\scoop\\apps\\python\\current\\lib\\site-packages\\torchvision\\models\\_utils.py:135: UserWarning: Using 'weights' as positional parameter(s) is deprecated since 0.13 and may be removed in the future. Please use keyword parameter(s) instead.\n",
      "  warnings.warn(\n",
      "C:\\Users\\danii\\scoop\\apps\\python\\current\\lib\\site-packages\\torchvision\\models\\_utils.py:223: UserWarning: Arguments other than a weight enum or `None` for 'weights' are deprecated since 0.13 and may be removed in the future. The current behavior is equivalent to passing `weights=None`.\n",
      "  warnings.warn(msg)\n",
      "C:\\Users\\danii\\scoop\\apps\\python\\current\\lib\\site-packages\\width_char_row\\my_binar.py:91: RuntimeWarning: invalid value encountered in scalar divide\n",
      "  mu_2 = (sumVal - mu_k) / (omega_2)\n"
     ]
    },
    {
     "name": "stdout",
     "output_type": "stream",
     "text": [
      "C:/Users/danii/Dropbox/Работа/04.Данные/ВКР//g15.jpeg\n"
     ]
    },
    {
     "name": "stderr",
     "output_type": "stream",
     "text": [
      "C:\\Users\\danii\\scoop\\apps\\python\\current\\lib\\site-packages\\torchvision\\models\\_utils.py:135: UserWarning: Using 'weights' as positional parameter(s) is deprecated since 0.13 and may be removed in the future. Please use keyword parameter(s) instead.\n",
      "  warnings.warn(\n",
      "C:\\Users\\danii\\scoop\\apps\\python\\current\\lib\\site-packages\\torchvision\\models\\_utils.py:223: UserWarning: Arguments other than a weight enum or `None` for 'weights' are deprecated since 0.13 and may be removed in the future. The current behavior is equivalent to passing `weights=None`.\n",
      "  warnings.warn(msg)\n",
      "C:\\Users\\danii\\scoop\\apps\\python\\current\\lib\\site-packages\\width_char_row\\my_binar.py:91: RuntimeWarning: invalid value encountered in scalar divide\n",
      "  mu_2 = (sumVal - mu_k) / (omega_2)\n"
     ]
    },
    {
     "name": "stdout",
     "output_type": "stream",
     "text": [
      "C:/Users/danii/Dropbox/Работа/04.Данные/ВКР//g16.jpeg\n"
     ]
    },
    {
     "name": "stderr",
     "output_type": "stream",
     "text": [
      "C:\\Users\\danii\\scoop\\apps\\python\\current\\lib\\site-packages\\torchvision\\models\\_utils.py:135: UserWarning: Using 'weights' as positional parameter(s) is deprecated since 0.13 and may be removed in the future. Please use keyword parameter(s) instead.\n",
      "  warnings.warn(\n",
      "C:\\Users\\danii\\scoop\\apps\\python\\current\\lib\\site-packages\\torchvision\\models\\_utils.py:223: UserWarning: Arguments other than a weight enum or `None` for 'weights' are deprecated since 0.13 and may be removed in the future. The current behavior is equivalent to passing `weights=None`.\n",
      "  warnings.warn(msg)\n",
      "C:\\Users\\danii\\scoop\\apps\\python\\current\\lib\\site-packages\\width_char_row\\my_binar.py:91: RuntimeWarning: invalid value encountered in scalar divide\n",
      "  mu_2 = (sumVal - mu_k) / (omega_2)\n"
     ]
    },
    {
     "name": "stdout",
     "output_type": "stream",
     "text": [
      "C:/Users/danii/Dropbox/Работа/04.Данные/ВКР//g17.jpeg\n"
     ]
    },
    {
     "name": "stderr",
     "output_type": "stream",
     "text": [
      "C:\\Users\\danii\\scoop\\apps\\python\\current\\lib\\site-packages\\torchvision\\models\\_utils.py:135: UserWarning: Using 'weights' as positional parameter(s) is deprecated since 0.13 and may be removed in the future. Please use keyword parameter(s) instead.\n",
      "  warnings.warn(\n",
      "C:\\Users\\danii\\scoop\\apps\\python\\current\\lib\\site-packages\\torchvision\\models\\_utils.py:223: UserWarning: Arguments other than a weight enum or `None` for 'weights' are deprecated since 0.13 and may be removed in the future. The current behavior is equivalent to passing `weights=None`.\n",
      "  warnings.warn(msg)\n"
     ]
    },
    {
     "name": "stdout",
     "output_type": "stream",
     "text": [
      "C:/Users/danii/Dropbox/Работа/04.Данные/ВКР//g18.jpeg\n"
     ]
    },
    {
     "name": "stderr",
     "output_type": "stream",
     "text": [
      "C:\\Users\\danii\\scoop\\apps\\python\\current\\lib\\site-packages\\torchvision\\models\\_utils.py:135: UserWarning: Using 'weights' as positional parameter(s) is deprecated since 0.13 and may be removed in the future. Please use keyword parameter(s) instead.\n",
      "  warnings.warn(\n",
      "C:\\Users\\danii\\scoop\\apps\\python\\current\\lib\\site-packages\\torchvision\\models\\_utils.py:223: UserWarning: Arguments other than a weight enum or `None` for 'weights' are deprecated since 0.13 and may be removed in the future. The current behavior is equivalent to passing `weights=None`.\n",
      "  warnings.warn(msg)\n",
      "C:\\Users\\danii\\scoop\\apps\\python\\current\\lib\\site-packages\\width_char_row\\my_binar.py:91: RuntimeWarning: invalid value encountered in scalar divide\n",
      "  mu_2 = (sumVal - mu_k) / (omega_2)\n",
      "C:\\Users\\danii\\scoop\\apps\\python\\current\\lib\\site-packages\\width_char_row\\class_page.py:462: RuntimeWarning: invalid value encountered in scalar divide\n",
      "  return p/s\n"
     ]
    },
    {
     "name": "stdout",
     "output_type": "stream",
     "text": [
      "C:/Users/danii/Dropbox/Работа/04.Данные/ВКР//g19.jpeg\n"
     ]
    },
    {
     "name": "stderr",
     "output_type": "stream",
     "text": [
      "C:\\Users\\danii\\scoop\\apps\\python\\current\\lib\\site-packages\\torchvision\\models\\_utils.py:135: UserWarning: Using 'weights' as positional parameter(s) is deprecated since 0.13 and may be removed in the future. Please use keyword parameter(s) instead.\n",
      "  warnings.warn(\n",
      "C:\\Users\\danii\\scoop\\apps\\python\\current\\lib\\site-packages\\torchvision\\models\\_utils.py:223: UserWarning: Arguments other than a weight enum or `None` for 'weights' are deprecated since 0.13 and may be removed in the future. The current behavior is equivalent to passing `weights=None`.\n",
      "  warnings.warn(msg)\n",
      "C:\\Users\\danii\\scoop\\apps\\python\\current\\lib\\site-packages\\width_char_row\\my_binar.py:91: RuntimeWarning: invalid value encountered in scalar divide\n",
      "  mu_2 = (sumVal - mu_k) / (omega_2)\n"
     ]
    },
    {
     "name": "stdout",
     "output_type": "stream",
     "text": [
      "C:/Users/danii/Dropbox/Работа/04.Данные/ВКР//g20.jpeg\n"
     ]
    },
    {
     "name": "stderr",
     "output_type": "stream",
     "text": [
      "C:\\Users\\danii\\scoop\\apps\\python\\current\\lib\\site-packages\\torchvision\\models\\_utils.py:135: UserWarning: Using 'weights' as positional parameter(s) is deprecated since 0.13 and may be removed in the future. Please use keyword parameter(s) instead.\n",
      "  warnings.warn(\n",
      "C:\\Users\\danii\\scoop\\apps\\python\\current\\lib\\site-packages\\torchvision\\models\\_utils.py:223: UserWarning: Arguments other than a weight enum or `None` for 'weights' are deprecated since 0.13 and may be removed in the future. The current behavior is equivalent to passing `weights=None`.\n",
      "  warnings.warn(msg)\n",
      "C:\\Users\\danii\\scoop\\apps\\python\\current\\lib\\site-packages\\width_char_row\\my_binar.py:91: RuntimeWarning: invalid value encountered in scalar divide\n",
      "  mu_2 = (sumVal - mu_k) / (omega_2)\n"
     ]
    },
    {
     "name": "stdout",
     "output_type": "stream",
     "text": [
      "C:/Users/danii/Dropbox/Работа/04.Данные/ВКР//n01.jpeg\n"
     ]
    },
    {
     "name": "stderr",
     "output_type": "stream",
     "text": [
      "C:\\Users\\danii\\scoop\\apps\\python\\current\\lib\\site-packages\\torchvision\\models\\_utils.py:135: UserWarning: Using 'weights' as positional parameter(s) is deprecated since 0.13 and may be removed in the future. Please use keyword parameter(s) instead.\n",
      "  warnings.warn(\n",
      "C:\\Users\\danii\\scoop\\apps\\python\\current\\lib\\site-packages\\torchvision\\models\\_utils.py:223: UserWarning: Arguments other than a weight enum or `None` for 'weights' are deprecated since 0.13 and may be removed in the future. The current behavior is equivalent to passing `weights=None`.\n",
      "  warnings.warn(msg)\n"
     ]
    },
    {
     "name": "stdout",
     "output_type": "stream",
     "text": [
      "C:/Users/danii/Dropbox/Работа/04.Данные/ВКР//n02.jpeg\n"
     ]
    },
    {
     "name": "stderr",
     "output_type": "stream",
     "text": [
      "C:\\Users\\danii\\scoop\\apps\\python\\current\\lib\\site-packages\\torchvision\\models\\_utils.py:135: UserWarning: Using 'weights' as positional parameter(s) is deprecated since 0.13 and may be removed in the future. Please use keyword parameter(s) instead.\n",
      "  warnings.warn(\n",
      "C:\\Users\\danii\\scoop\\apps\\python\\current\\lib\\site-packages\\torchvision\\models\\_utils.py:223: UserWarning: Arguments other than a weight enum or `None` for 'weights' are deprecated since 0.13 and may be removed in the future. The current behavior is equivalent to passing `weights=None`.\n",
      "  warnings.warn(msg)\n",
      "C:\\Users\\danii\\scoop\\apps\\python\\current\\lib\\site-packages\\width_char_row\\my_binar.py:91: RuntimeWarning: divide by zero encountered in scalar divide\n",
      "  mu_2 = (sumVal - mu_k) / (omega_2)\n",
      "C:\\Users\\danii\\scoop\\apps\\python\\current\\lib\\site-packages\\width_char_row\\my_binar.py:94: RuntimeWarning: invalid value encountered in scalar multiply\n",
      "  currentVar = (1 - sumOfNeighbors / denom) * (omega_1 * mu_1 ** 2 + omega_2 * mu_2 ** 2)\n"
     ]
    },
    {
     "name": "stdout",
     "output_type": "stream",
     "text": [
      "C:/Users/danii/Dropbox/Работа/04.Данные/ВКР//n03.jpeg\n"
     ]
    },
    {
     "name": "stderr",
     "output_type": "stream",
     "text": [
      "C:\\Users\\danii\\scoop\\apps\\python\\current\\lib\\site-packages\\torchvision\\models\\_utils.py:135: UserWarning: Using 'weights' as positional parameter(s) is deprecated since 0.13 and may be removed in the future. Please use keyword parameter(s) instead.\n",
      "  warnings.warn(\n",
      "C:\\Users\\danii\\scoop\\apps\\python\\current\\lib\\site-packages\\torchvision\\models\\_utils.py:223: UserWarning: Arguments other than a weight enum or `None` for 'weights' are deprecated since 0.13 and may be removed in the future. The current behavior is equivalent to passing `weights=None`.\n",
      "  warnings.warn(msg)\n",
      "C:\\Users\\danii\\scoop\\apps\\python\\current\\lib\\site-packages\\width_char_row\\my_binar.py:91: RuntimeWarning: invalid value encountered in scalar divide\n",
      "  mu_2 = (sumVal - mu_k) / (omega_2)\n",
      "C:\\Users\\danii\\scoop\\apps\\python\\current\\lib\\site-packages\\width_char_row\\class_page.py:462: RuntimeWarning: invalid value encountered in scalar divide\n",
      "  return p/s\n"
     ]
    },
    {
     "name": "stdout",
     "output_type": "stream",
     "text": [
      "C:/Users/danii/Dropbox/Работа/04.Данные/ВКР//n04.jpeg\n"
     ]
    },
    {
     "name": "stderr",
     "output_type": "stream",
     "text": [
      "C:\\Users\\danii\\scoop\\apps\\python\\current\\lib\\site-packages\\torchvision\\models\\_utils.py:135: UserWarning: Using 'weights' as positional parameter(s) is deprecated since 0.13 and may be removed in the future. Please use keyword parameter(s) instead.\n",
      "  warnings.warn(\n",
      "C:\\Users\\danii\\scoop\\apps\\python\\current\\lib\\site-packages\\torchvision\\models\\_utils.py:223: UserWarning: Arguments other than a weight enum or `None` for 'weights' are deprecated since 0.13 and may be removed in the future. The current behavior is equivalent to passing `weights=None`.\n",
      "  warnings.warn(msg)\n",
      "C:\\Users\\danii\\scoop\\apps\\python\\current\\lib\\site-packages\\width_char_row\\my_binar.py:91: RuntimeWarning: invalid value encountered in scalar divide\n",
      "  mu_2 = (sumVal - mu_k) / (omega_2)\n"
     ]
    },
    {
     "name": "stdout",
     "output_type": "stream",
     "text": [
      "C:/Users/danii/Dropbox/Работа/04.Данные/ВКР//n05.jpeg\n"
     ]
    },
    {
     "name": "stderr",
     "output_type": "stream",
     "text": [
      "C:\\Users\\danii\\scoop\\apps\\python\\current\\lib\\site-packages\\torchvision\\models\\_utils.py:135: UserWarning: Using 'weights' as positional parameter(s) is deprecated since 0.13 and may be removed in the future. Please use keyword parameter(s) instead.\n",
      "  warnings.warn(\n",
      "C:\\Users\\danii\\scoop\\apps\\python\\current\\lib\\site-packages\\torchvision\\models\\_utils.py:223: UserWarning: Arguments other than a weight enum or `None` for 'weights' are deprecated since 0.13 and may be removed in the future. The current behavior is equivalent to passing `weights=None`.\n",
      "  warnings.warn(msg)\n"
     ]
    },
    {
     "name": "stdout",
     "output_type": "stream",
     "text": [
      "C:/Users/danii/Dropbox/Работа/04.Данные/ВКР//b01.jpeg\n"
     ]
    }
   ],
   "source": [
    "class App:\n",
    "    def __init__(self):\n",
    "        self.root = Tk()\n",
    "\n",
    "        # создаем рабочую область\n",
    "        self.frame = Frame(self.root)\n",
    "        self.frame.grid()\n",
    "        \n",
    "        self.cv_img = None\n",
    "        self.image = None\n",
    "        self.photo = None\n",
    "        self.box = []\n",
    "        self.name_box = \"\"\n",
    "        self.index_file = 0\n",
    "        # кнопка открытия файла\n",
    "        self.btn_open_img = Button(self.frame, text=\"Открыть картинку\", \n",
    "                                  command=self.my_event_handler)\n",
    "        \n",
    "        self.btn_open_img.grid(row=1, column=1)\n",
    "        \n",
    "       \n",
    "        # кнопка следующая картинка \n",
    "        self.btn_next = Button(self.frame, text=\"<\",\n",
    "                                  command=self.my_back)\n",
    "        self.btn_next.grid(row=2, column=1)\n",
    "        self.btn_next = Button(self.frame, text=\">\",\n",
    "                                  command=self.my_next)\n",
    "        self.btn_next.grid(row=2, column=2)\n",
    "         # кнопка сохранения массива\n",
    "        self.btn_save_box = Button(self.frame, text=\"Сохранить данные\",\n",
    "                                  command=self.save_box)\n",
    "        self.btn_save_box.grid(row=3, column=2)\n",
    "         \n",
    "        # Добавим изображение\n",
    "        self.canvas = Canvas(self.root, height=HEIGHT, width=WIDTH)\n",
    "        self.canvas.bind(\"<ButtonPress-1>\", self.click)\n",
    "        self.canvas.grid(row=2, column=1)\n",
    "        \n",
    "        self.my_event_handler(file_name=files[self.index_file])\n",
    "        \n",
    "        self.root.mainloop()\n",
    "        \n",
    "        \n",
    "    def my_next(self):\n",
    "        self.save_box()\n",
    "        self.index_file += 1\n",
    "        if self.index_file == len(files):\n",
    "            self.index_file = 0\n",
    "        self.my_event_handler(files[self.index_file])\n",
    "        \n",
    "    def my_back(self):\n",
    "        self.save_box()\n",
    "        self.index_file -= 1\n",
    "        if self.index_file == -1:\n",
    "            self.index_file = len(files)-1\n",
    "        self.my_event_handler(files[self.index_file]) \n",
    "        \n",
    "    def my_event_handler(self, file_name=None):\n",
    "        if file_name is None:\n",
    "            filename = filedialog.askopenfilename(initialdir=PATH, \n",
    "                                          title=\"Select file\", \n",
    "                                          filetypes=((\"img\", \"*.jpg *.png *.jpeg\"),\n",
    "                                                  (\"all files\", \"*.*\")))  \n",
    "        else:\n",
    "            filename = PATH + r'/'+ file_name\n",
    "        print(filename)\n",
    "        self.dir = os.path.dirname(filename)\n",
    "        self.name = os.path.basename(filename)\n",
    "        self.page = Page(filename)        \n",
    "        self.draw_img()\n",
    "        \n",
    "    def draw_img(self):\n",
    "        h = self.page.img.shape[0]\n",
    "        w = self.page.img.shape[1]\n",
    "        \n",
    "        img_cope = self.page.img.copy()\n",
    "        if len(self.page.style) == 0:\n",
    "            self.page.processing_method(0.56, \"ps\", line=True)\n",
    "        for i in range(len(self.page.lines)):\n",
    "            for j in range(len(self.page.lines[i])):\n",
    "            \n",
    "                word = self.page.lines[i][j]\n",
    "                font = self.page.style[i][j]\n",
    "                color = (155, 155, 155)\n",
    "                if font == REGULAR_ROW:\n",
    "                    color = COLOR_REGULAR_ROW\n",
    "                elif font == BOLD_ROW:\n",
    "                    color = COLOR_BOLD_ROW\n",
    "                elif font == OFFSET_ROW:\n",
    "                    color = COLOR_OFFSET_ROW\n",
    "                border = 1\n",
    "            \n",
    "                cv2.rectangle(img_cope,  (word.x_top_left, word.y_top_left),\n",
    "                              (word.x_bottom_right, word.y_bottom_right), color, border)\n",
    "        coef = h/w\n",
    "        img = cv2.resize(img_cope, (WIDTH, round(coef*WIDTH)))\n",
    "        \n",
    "        self.image = Image.fromarray(cv2.cvtColor(img, cv2.COLOR_BGR2RGB))\n",
    "        self.photo = ImageTk.PhotoImage(image = self.image)\n",
    "        self.c_image = self.canvas.create_image(0, 0, anchor='nw', image=self.photo)\n",
    "        self.canvas.grid(row=2, column=1)\n",
    "    \n",
    "    def click(self, e):\n",
    "        w = self.page.img.shape[1]\n",
    "        coef = w/WIDTH\n",
    "        x1 = e.x*coef\n",
    "        y1 = e.y*coef\n",
    "        for i in range(len(self.page.lines)):\n",
    "            for j in range(len(self.page.lines[i])):\n",
    "                word = self.page.lines[i][j]\n",
    "                \n",
    "                font = self.page.style[i][j]\n",
    "                color = (155, 155, 155)\n",
    "                if (x1 > word.x_top_left) and (x1< word.x_bottom_right) and \\\n",
    "                (y1 > word.y_top_left) and (y1 < word.y_bottom_right):\n",
    "                    if font == REGULAR_ROW:\n",
    "                        self.page.style[i][j] = BOLD_ROW\n",
    "                    elif font == BOLD_ROW:\n",
    "                        self.page.style[i][j] = OFFSET_ROW\n",
    "                    elif font == OFFSET_ROW:\n",
    "                        self.page.style[i][j] = REGULAR_ROW\n",
    "                    border = 1\n",
    "        self.draw_img()\n",
    "        \n",
    "    def save_box(self):\n",
    "        self.page.save_segm()\n",
    "        \n",
    "app= App()"
   ]
  },
  {
   "cell_type": "code",
   "execution_count": null,
   "id": "6c4b4382",
   "metadata": {},
   "outputs": [],
   "source": []
  },
  {
   "cell_type": "code",
   "execution_count": 40,
   "id": "5d7ee71c",
   "metadata": {},
   "outputs": [
    {
     "data": {
      "text/plain": [
       "'C:\\\\Users\\\\danii\\\\Dropbox\\\\Работа\\\\04.Данные\\\\Разное\\\\аннотация1.png'"
      ]
     },
     "execution_count": 40,
     "metadata": {},
     "output_type": "execute_result"
    }
   ],
   "source": [
    "os.path.join(PATH, files[0])"
   ]
  },
  {
   "cell_type": "code",
   "execution_count": null,
   "id": "5f6e8e1a",
   "metadata": {},
   "outputs": [],
   "source": []
  }
 ],
 "metadata": {
  "kernelspec": {
   "display_name": "Python 3 (ipykernel)",
   "language": "python",
   "name": "python3"
  },
  "language_info": {
   "codemirror_mode": {
    "name": "ipython",
    "version": 3
   },
   "file_extension": ".py",
   "mimetype": "text/x-python",
   "name": "python",
   "nbconvert_exporter": "python",
   "pygments_lexer": "ipython3",
   "version": "3.10.5"
  }
 },
 "nbformat": 4,
 "nbformat_minor": 5
}
